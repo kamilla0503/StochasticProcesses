{
 "cells": [
  {
   "cell_type": "code",
   "execution_count": 1,
   "id": "50e99d87",
   "metadata": {},
   "outputs": [],
   "source": [
    "import matplotlib.pyplot as plt\n",
    "import random\n",
    "import numpy as np\n",
    "\n",
    "import pandas as pd\n",
    "from matplotlib.ticker import LogFormatter \n",
    "from scipy.optimize import curve_fit\n",
    "from pathlib import Path\n",
    "import matplotlib.colors\n",
    "from matplotlib import ticker, cm\n",
    "import pickle\n",
    "\n",
    "from scipy.stats import gamma as Gamma\n",
    "from scipy.stats import norm\n",
    "from scipy.stats import lognorm\n",
    "from scipy.stats import expon\n",
    "\n",
    "import seaborn as sns\n",
    "\n",
    "from scipy.special import kolmogorov, erf\n",
    "from scipy.special import gamma, factorial\n",
    "from scipy.optimize import minimize"
   ]
  },
  {
   "cell_type": "markdown",
   "id": "7ab65123",
   "metadata": {},
   "source": [
    "# Case 1 "
   ]
  },
  {
   "cell_type": "markdown",
   "id": "a382d2ef",
   "metadata": {},
   "source": [
    "% Case 1: fully synthetic case\n",
    "Mdata = 1e3;\n",
    "mu = 2; sigma = 1;\n",
    "tau1 = exprnd(lognrnd(mu,sigma,1,Mdata));\n",
    "figure(1), histogram(tau1,40,'binlimits',[0 100]);\n",
    "title('Case 1: fully synthetic case');\n",
    "\n",
    "% Q1: tau1 is now exactly ~Exp(logN(mu,sigma)). Given data tau1, can\n",
    "% we find a good estimate lambda1 ~ logN(mu,sigma)?\n",
    "%\n",
    "% Partial answer:\n",
    "% https://en.wikipedia.org/wiki/Exponential_distribution#Bayesian_inference"
   ]
  },
  {
   "cell_type": "code",
   "execution_count": 2,
   "id": "34c252d5",
   "metadata": {},
   "outputs": [],
   "source": [
    "Mdata = 1000\n",
    "mu = 2\n",
    "sigma = 1\n",
    "tau1 = np.zeros((1, Mdata))\n",
    "\n",
    "lamda = lognorm(mu,sigma).rvs(size=(1,Mdata))\n",
    "\n",
    "for i in range(Mdata):\n",
    "    tau1[0,i] = expon(lamda[0,i]).rvs(size=1)"
   ]
  },
  {
   "cell_type": "code",
   "execution_count": 3,
   "id": "97696600",
   "metadata": {},
   "outputs": [
    {
     "data": {
      "text/plain": [
       "(0.0, 100.0)"
      ]
     },
     "execution_count": 3,
     "metadata": {},
     "output_type": "execute_result"
    },
    {
     "data": {
      "image/png": "[encoded data removed]",
      "text/plain": [
       "<Figure size 432x288 with 1 Axes>"
      ]
     },
     "metadata": {
      "needs_background": "light"
     },
     "output_type": "display_data"
    }
   ],
   "source": [
    "sns.histplot(tau1[0],  binwidth=3)\n",
    "plt.xlim(0,100)"
   ]
  },
  {
   "cell_type": "code",
   "execution_count": 4,
   "id": "c24c884d",
   "metadata": {},
   "outputs": [
    {
     "name": "stdout",
     "output_type": "stream",
     "text": [
      "mean:  9.41136126792639\n",
      "std:  31.04563691857356\n"
     ]
    }
   ],
   "source": [
    "print(\"mean: \", np.mean(tau1))\n",
    "print(\"std: \", np.std(tau1))"
   ]
  },
  {
   "cell_type": "code",
   "execution_count": 5,
   "id": "529be083",
   "metadata": {},
   "outputs": [
    {
     "data": {
      "text/plain": [
       "Text(0.5, 1.0, 'Zoom-in, data $\\\\tau$ distribution')"
      ]
     },
     "execution_count": 5,
     "metadata": {},
     "output_type": "execute_result"
    },
    {
     "data": {
      "image/png": "[encoded data removed]",
      "text/plain": [
       "<Figure size 432x288 with 1 Axes>"
      ]
     },
     "metadata": {
      "needs_background": "light"
     },
     "output_type": "display_data"
    }
   ],
   "source": [
    "sns.histplot(tau1[0],  binwidth=3)\n",
    "plt.xlim(0,40)\n",
    "plt.title(r\"Zoom-in, data $\\tau$ distribution\")"
   ]
  },
  {
   "cell_type": "code",
   "execution_count": 6,
   "id": "7c8c9f83",
   "metadata": {},
   "outputs": [
    {
     "data": {
      "text/plain": [
       "Text(0.5, 1.0, 'Parameters $\\\\lambda$ distribution')"
      ]
     },
     "execution_count": 6,
     "metadata": {},
     "output_type": "execute_result"
    },
    {
     "data": {
      "image/png": "[encoded data removed]",
      "text/plain": [
       "<Figure size 432x288 with 1 Axes>"
      ]
     },
     "metadata": {
      "needs_background": "light"
     },
     "output_type": "display_data"
    }
   ],
   "source": [
    "sns.histplot(lamda[0],  binwidth=3)\n",
    "plt.xlim(0,40)\n",
    "plt.title(r\"Parameters $\\lambda$ distribution\")"
   ]
  },
  {
   "cell_type": "code",
   "execution_count": 7,
   "id": "94629e12",
   "metadata": {},
   "outputs": [
    {
     "name": "stdout",
     "output_type": "stream",
     "text": [
      "mean:  8.38604494653534\n",
      "std:  31.065280928155104\n"
     ]
    }
   ],
   "source": [
    "print(\"mean: \", np.mean(lamda))\n",
    "print(\"std: \", np.std(lamda))"
   ]
  },
  {
   "cell_type": "code",
   "execution_count": 8,
   "id": "4b66a595",
   "metadata": {},
   "outputs": [],
   "source": [
    "def Gamma_density(x, alpha, beta):\n",
    "    p = beta**alpha/gamma(alpha)*(x**(alpha-1))*np.exp(-x*beta)\n",
    "    return p"
   ]
  },
  {
   "cell_type": "code",
   "execution_count": 9,
   "id": "1ba76c3b",
   "metadata": {},
   "outputs": [],
   "source": [
    "def LogLikelihood(params, data=[], func=Gamma_density):  \n",
    "    alpha, beta = params\n",
    "    l = np.sum(np.log(func(data, alpha, beta)))\n",
    "    #print(l, params)\n",
    "    return l"
   ]
  },
  {
   "cell_type": "code",
   "execution_count": 10,
   "id": "8f94e377",
   "metadata": {},
   "outputs": [],
   "source": [
    "def Maximize_LogLikelihood(params, data=[], func=Gamma_density):\n",
    "    return -LogLikelihood(params, data, func)"
   ]
  },
  {
   "cell_type": "code",
   "execution_count": 11,
   "id": "97d7413b",
   "metadata": {},
   "outputs": [],
   "source": [
    "x0 = np.array([1, 1])\n",
    "bnds = ((0.0001, 100), (0.0001, 100))\n",
    "Estimates = minimize(Maximize_LogLikelihood, x0, args=(tau1),method='TNC', bounds=bnds, tol=1e-10)"
   ]
  },
  {
   "cell_type": "code",
   "execution_count": 12,
   "id": "d34259d8",
   "metadata": {},
   "outputs": [
    {
     "name": "stdout",
     "output_type": "stream",
     "text": [
      "alpha :  0.7293244527514773\n",
      "beta :  0.07749404153799588\n",
      "Mean posterior :  9.41136167732179\n"
     ]
    }
   ],
   "source": [
    "alpha, beta = Estimates.x\n",
    "mean_post = alpha/beta\n",
    " \n",
    "print(\"alpha : \", alpha)\n",
    "print(\"beta : \", beta)\n",
    "print(\"Mean posterior : \", mean_post)"
   ]
  },
  {
   "cell_type": "code",
   "execution_count": 13,
   "id": "54809224",
   "metadata": {},
   "outputs": [
    {
     "data": {
      "text/plain": [
       "(0.0, 100.0)"
      ]
     },
     "execution_count": 13,
     "metadata": {},
     "output_type": "execute_result"
    },
    {
     "data": {
      "image/png": "[encoded data removed]",
      "text/plain": [
       "<Figure size 432x288 with 1 Axes>"
      ]
     },
     "metadata": {
      "needs_background": "light"
     },
     "output_type": "display_data"
    }
   ],
   "source": [
    "rv = Gamma(alpha, beta)\n",
    "r = rv.rvs(size=1000)\n",
    "#plt.hist(tau1[0], alpha=0.8)\n",
    "sns.histplot(r,  binwidth=3, color = \"r\")\n",
    "sns.histplot(lamda[0],  binwidth=3)\n",
    "\n",
    "\n",
    "plt.xlim(0,100)"
   ]
  },
  {
   "cell_type": "markdown",
   "id": "91807355",
   "metadata": {},
   "source": [
    "% Case 2: synthetic case, internal states\n",
    "M = 5; % internal states\n",
    "lambda = linspace(0,1,M+2); lambda([1 end]) = [];\n",
    "tau2 = sum(exprnd(repmat(lambda,Mdata,1)),2)';\n",
    "figure(2), histogram(tau2,40,'binlimits',[0 10]);\n",
    "title('Case 2: synthetic case, internal states');\n",
    "\n",
    "% Q2: from data tau2 above, can we find estimates of lamda(i), i =\n",
    "% 1...M above? Maximum-Likelhood estimates? Bayesian estimates?\n",
    "%\n",
    "% The likelihood for a sum of exponentially distributed waiting time\n",
    "% has been discussed here: \"Sum of independent exponentials\": Problem\n",
    "% 12 of Chapter I in Feller: An Introduction to Probability Theory and\n",
    "% its Applications, Volume II. See\n",
    "% https://people.maths.bris.ac.uk/~mb13434/sumexp.pdf\n",
    "%\n",
    "% On a related note: Gong, Y., Mao, Y.-H., Zhang, C., 2012. \"Hitting\n",
    "% time distributions for denumerable birth and death processes\" in\n",
    "% J. Theor. Probab. 25 (4),\n",
    "% 950--980. https://doi.org/10.1007/s10959-012-0436-1."
   ]
  },
  {
   "cell_type": "markdown",
   "id": "0914e3ff",
   "metadata": {},
   "source": [
    "# Case 2 "
   ]
  },
  {
   "cell_type": "code",
   "execution_count": 54,
   "id": "1e5a3ec1",
   "metadata": {},
   "outputs": [],
   "source": [
    "Mdata = 1000\n",
    "M = 5 # internal states\n",
    "lamda2 = np.arange(1,6,1)/6\n",
    "tau2 = np.zeros((1, Mdata))\n",
    " \n",
    "generated_exps = np.zeros((M, Mdata))\n",
    "i=0\n",
    "for exp in lamda2:\n",
    "    generated_exps[i, :] = expon(lamda2[i]).rvs(size=Mdata)\n",
    "    i+=1\n",
    "     \n",
    "tau2 = np.sum(generated_exps, axis = 0)    \n",
    " "
   ]
  },
  {
   "cell_type": "code",
   "execution_count": 55,
   "id": "2f73ac5d",
   "metadata": {},
   "outputs": [
    {
     "data": {
      "text/plain": [
       "array([6. , 3. , 2. , 1.5, 1.2])"
      ]
     },
     "execution_count": 55,
     "metadata": {},
     "output_type": "execute_result"
    }
   ],
   "source": [
    "1/lamda2"
   ]
  },
  {
   "cell_type": "code",
   "execution_count": 56,
   "id": "3da036b7",
   "metadata": {},
   "outputs": [
    {
     "data": {
      "text/plain": [
       "array([1.2015052 , 1.36899205, 1.47868028, 1.66328121, 1.80998594])"
      ]
     },
     "execution_count": 56,
     "metadata": {},
     "output_type": "execute_result"
    }
   ],
   "source": [
    "generated_exps.mean(axis=1)"
   ]
  },
  {
   "cell_type": "code",
   "execution_count": 57,
   "id": "4c1d296d",
   "metadata": {},
   "outputs": [
    {
     "data": {
      "text/plain": [
       "Text(0.5, 1.0, 'Zoom-in, data $\\\\tau$ distribution')"
      ]
     },
     "execution_count": 57,
     "metadata": {},
     "output_type": "execute_result"
    },
    {
     "data": {
      "image/png": "[encoded data removed]",
      "text/plain": [
       "<Figure size 432x288 with 1 Axes>"
      ]
     },
     "metadata": {
      "needs_background": "light"
     },
     "output_type": "display_data"
    }
   ],
   "source": [
    "sns.histplot(generated_exps[0, :], color = \"yellow\", kde=True)\n",
    "sns.histplot(generated_exps[2, :], color = \"r\", kde=True)\n",
    "sns.histplot(generated_exps[3, :], color = \"orange\", kde=True)\n",
    "sns.histplot(generated_exps[4, :], color = \"b\", kde=True)\n",
    "plt.xlim(0,6)\n",
    "plt.title(r\"Zoom-in, data $\\tau$ distribution\")"
   ]
  },
  {
   "cell_type": "code",
   "execution_count": 58,
   "id": "35f88a91",
   "metadata": {},
   "outputs": [
    {
     "data": {
      "text/plain": [
       "Text(0.5, 1.0, 'Zoom-in, data $\\\\tau$ distribution')"
      ]
     },
     "execution_count": 58,
     "metadata": {},
     "output_type": "execute_result"
    },
    {
     "data": {
      "image/png": "[encoded data removed]",
      "text/plain": [
       "<Figure size 432x288 with 1 Axes>"
      ]
     },
     "metadata": {
      "needs_background": "light"
     },
     "output_type": "display_data"
    }
   ],
   "source": [
    "sns.histplot(tau2, kde=True)\n",
    "plt.xlim(0,20)\n",
    "plt.title(r\"Zoom-in, data $\\tau$ distribution\")"
   ]
  },
  {
   "cell_type": "code",
   "execution_count": null,
   "id": "1aec70a9",
   "metadata": {},
   "outputs": [],
   "source": []
  },
  {
   "cell_type": "code",
   "execution_count": null,
   "id": "9cf374de",
   "metadata": {},
   "outputs": [],
   "source": []
  }
 ],
 "metadata": {
  "kernelspec": {
   "display_name": "Python 3",
   "language": "python",
   "name": "python3"
  },
  "language_info": {
   "codemirror_mode": {
    "name": "ipython",
    "version": 3
   },
   "file_extension": ".py",
   "mimetype": "text/x-python",
   "name": "python",
   "nbconvert_exporter": "python",
   "pygments_lexer": "ipython3",
   "version": "3.8.8"
  }
 },
 "nbformat": 4,
 "nbformat_minor": 5
}
