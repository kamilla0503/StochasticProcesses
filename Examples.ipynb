{
 "cells": [
  {
   "cell_type": "code",
   "execution_count": 59,
   "id": "50e99d87",
   "metadata": {},
   "outputs": [],
   "source": [
    "import matplotlib.pyplot as plt\n",
    "import random\n",
    "import numpy as np\n",
    "\n",
    "import pandas as pd\n",
    "from matplotlib.ticker import LogFormatter \n",
    "from scipy.optimize import curve_fit\n",
    "from pathlib import Path\n",
    "import matplotlib.colors\n",
    "from matplotlib import ticker, cm\n",
    "import pickle\n",
    "\n",
    "from scipy.stats import gamma as Gamma\n",
    "from scipy.stats import norm\n",
    "from scipy.stats import lognorm\n",
    "from scipy.stats import expon\n",
    "\n",
    "import seaborn as sns\n",
    "\n",
    "from scipy.special import kolmogorov, erf\n",
    "from scipy.special import gamma, factorial\n",
    "from scipy.optimize import minimize"
   ]
  },
  {
   "cell_type": "markdown",
   "id": "a382d2ef",
   "metadata": {},
   "source": [
    "% Case 1: fully synthetic case\n",
    "Mdata = 1e3;\n",
    "mu = 2; sigma = 1;\n",
    "tau1 = exprnd(lognrnd(mu,sigma,1,Mdata));\n",
    "figure(1), histogram(tau1,40,'binlimits',[0 100]);\n",
    "title('Case 1: fully synthetic case');\n",
    "\n",
    "% Q1: tau1 is now exactly ~Exp(logN(mu,sigma)). Given data tau1, can\n",
    "% we find a good estimate lambda1 ~ logN(mu,sigma)?\n",
    "%\n",
    "% Partial answer:\n",
    "% https://en.wikipedia.org/wiki/Exponential_distribution#Bayesian_inference"
   ]
  },
  {
   "cell_type": "code",
   "execution_count": 124,
   "id": "34c252d5",
   "metadata": {},
   "outputs": [],
   "source": [
    "Mdata = 1000\n",
    "mu = 2\n",
    "sigma = 1\n",
    "tau1 = np.zeros((1, Mdata))\n",
    "\n",
    "lamda = lognorm(mu,sigma).rvs(size=(1,Mdata))\n",
    "\n",
    "for i in range(Mdata):\n",
    "    tau1[0,i] = expon(lamda[0,i]).rvs(size=1)"
   ]
  },
  {
   "cell_type": "code",
   "execution_count": 125,
   "id": "97696600",
   "metadata": {},
   "outputs": [
    {
     "data": {
      "text/plain": [
       "(0.0, 100.0)"
      ]
     },
     "execution_count": 125,
     "metadata": {},
     "output_type": "execute_result"
    },
    {
     "data": {
      "image/png": "[encoded data removed]",
      "text/plain": [
       "<Figure size 432x288 with 1 Axes>"
      ]
     },
     "metadata": {
      "needs_background": "light"
     },
     "output_type": "display_data"
    }
   ],
   "source": [
    "sns.histplot(tau1[0],  binwidth=3)\n",
    "plt.xlim(0,100)"
   ]
  },
  {
   "cell_type": "code",
   "execution_count": 126,
   "id": "c24c884d",
   "metadata": {},
   "outputs": [
    {
     "name": "stdout",
     "output_type": "stream",
     "text": [
      "mean:  9.105836535338883\n",
      "std:  26.623117894344833\n"
     ]
    }
   ],
   "source": [
    "print(\"mean: \", np.mean(tau1))\n",
    "print(\"std: \", np.std(tau1))"
   ]
  },
  {
   "cell_type": "code",
   "execution_count": 127,
   "id": "529be083",
   "metadata": {},
   "outputs": [
    {
     "data": {
      "text/plain": [
       "Text(0.5, 1.0, 'Zoom-in, data $\\\\tau$ distribution')"
      ]
     },
     "execution_count": 127,
     "metadata": {},
     "output_type": "execute_result"
    },
    {
     "data": {
      "image/png": "[encoded data removed]",
      "text/plain": [
       "<Figure size 432x288 with 1 Axes>"
      ]
     },
     "metadata": {
      "needs_background": "light"
     },
     "output_type": "display_data"
    }
   ],
   "source": [
    "sns.histplot(tau1[0],  binwidth=3)\n",
    "plt.xlim(0,40)\n",
    "plt.title(r\"Zoom-in, data $\\tau$ distribution\")"
   ]
  },
  {
   "cell_type": "code",
   "execution_count": 128,
   "id": "75393dd1",
   "metadata": {},
   "outputs": [
    {
     "data": {
      "text/plain": [
       "Text(0.5, 1.0, 'Parameters $\\\\lambda$ distribution')"
      ]
     },
     "execution_count": 128,
     "metadata": {},
     "output_type": "execute_result"
    },
    {
     "data": {
      "image/png": "[encoded data removed]",
      "text/plain": [
       "<Figure size 432x288 with 1 Axes>"
      ]
     },
     "metadata": {
      "needs_background": "light"
     },
     "output_type": "display_data"
    }
   ],
   "source": [
    "sns.histplot(lamda[0],  binwidth=3)\n",
    "plt.xlim(0,40)\n",
    "plt.title(r\"Parameters $\\lambda$ distribution\")"
   ]
  },
  {
   "cell_type": "code",
   "execution_count": 129,
   "id": "d2868aac",
   "metadata": {},
   "outputs": [
    {
     "name": "stdout",
     "output_type": "stream",
     "text": [
      "mean:  8.083908109430968\n",
      "std:  26.578415180270742\n"
     ]
    }
   ],
   "source": [
    "print(\"mean: \", np.mean(lamda))\n",
    "print(\"std: \", np.std(lamda))"
   ]
  },
  {
   "cell_type": "code",
   "execution_count": 130,
   "id": "760da0b9",
   "metadata": {},
   "outputs": [],
   "source": [
    "def Gamma_density(x, alpha, beta):\n",
    "    p = beta**alpha/gamma(alpha)*(x**(alpha-1))*np.exp(-x*beta)\n",
    "    return p"
   ]
  },
  {
   "cell_type": "code",
   "execution_count": 131,
   "id": "990d77df",
   "metadata": {},
   "outputs": [],
   "source": [
    "def LogLikelihood(params, data=[], func=Gamma_density):  \n",
    "    alpha, beta = params\n",
    "    l = np.sum(np.log(func(data, alpha, beta)))\n",
    "    #print(l, params)\n",
    "    return l"
   ]
  },
  {
   "cell_type": "code",
   "execution_count": 132,
   "id": "beedbe5e",
   "metadata": {},
   "outputs": [],
   "source": [
    "def Maximize_LogLikelihood(params, data=[], func=Gamma_density):\n",
    "    return -LogLikelihood(params, data, func)"
   ]
  },
  {
   "cell_type": "code",
   "execution_count": 133,
   "id": "1e1e99b0",
   "metadata": {},
   "outputs": [],
   "source": [
    "x0 = np.array([1, 1])\n",
    "bnds = ((0.0001, 100), (0.0001, 100))\n",
    "Estimates = minimize(Maximize_LogLikelihood, x0, args=(tau1),method='TNC', bounds=bnds, tol=1e-10)"
   ]
  },
  {
   "cell_type": "code",
   "execution_count": 135,
   "id": "bc2b00c9",
   "metadata": {},
   "outputs": [
    {
     "name": "stdout",
     "output_type": "stream",
     "text": [
      "alpha :  0.717602089910514\n",
      "beta :  0.07880682126946681\n",
      "Mean posterior :  9.105837265746237\n"
     ]
    }
   ],
   "source": [
    "alpha, beta = Estimates.x\n",
    "mean_post = alpha/beta\n",
    " \n",
    "print(\"alpha : \", alpha)\n",
    "print(\"beta : \", beta)\n",
    "print(\"Mean posterior : \", mean_post)"
   ]
  },
  {
   "cell_type": "code",
   "execution_count": 136,
   "id": "54809224",
   "metadata": {},
   "outputs": [
    {
     "data": {
      "text/plain": [
       "(0.0, 100.0)"
      ]
     },
     "execution_count": 136,
     "metadata": {},
     "output_type": "execute_result"
    },
    {
     "data": {
      "image/png": "[encoded data removed]",
      "text/plain": [
       "<Figure size 432x288 with 1 Axes>"
      ]
     },
     "metadata": {
      "needs_background": "light"
     },
     "output_type": "display_data"
    }
   ],
   "source": [
    "rv = Gamma(alpha, beta)\n",
    "r = rv.rvs(size=1000)\n",
    "#plt.hist(tau1[0], alpha=0.8)\n",
    "sns.histplot(tau1[0],  binwidth=3, color = \"r\")\n",
    "sns.histplot(lamda[0],  binwidth=3)\n",
    "\n",
    "\n",
    "plt.xlim(0,100)"
   ]
  }
 ],
 "metadata": {
  "kernelspec": {
   "display_name": "Python 3",
   "language": "python",
   "name": "python3"
  },
  "language_info": {
   "codemirror_mode": {
    "name": "ipython",
    "version": 3
   },
   "file_extension": ".py",
   "mimetype": "text/x-python",
   "name": "python",
   "nbconvert_exporter": "python",
   "pygments_lexer": "ipython3",
   "version": "3.8.8"
  }
 },
 "nbformat": 4,
 "nbformat_minor": 5
}
